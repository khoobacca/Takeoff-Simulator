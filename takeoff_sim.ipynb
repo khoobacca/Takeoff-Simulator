{
 "cells": [
  {
   "cell_type": "code",
   "execution_count": 7,
   "metadata": {},
   "outputs": [],
   "source": [
    "import math\n",
    "import numpy as np\n",
    "import matplotlib.pyplot as plt\n",
    "\n",
    "# Globals\n",
    "GRAVITY = 9.81\n",
    "RHO = 1.225                 # kg/m^3 @ sea lvl (air density)\n",
    "LIFT_SLOPE = 2*np.pi\n",
    "ROTATIONAL_AOA = 6          # degrees\n",
    "ROTATIONAL_V = 4.5              # m/s (ill approximate rotation speed for flow speed @ takeoff)\n",
    "\n",
    "# heres the data in the xls file i was given:\n",
    "weight = 8 * GRAVITY            # kg\n",
    "\n",
    "wingspan = 2.0                  # m\n",
    "wing_area = 0.7                 # m\n",
    "wing_height_above_ground = 0.3  # m\n",
    "\n",
    "aspect_ratio = wingspan**2 / wing_area\n",
    "oswald_e = 0.7\n",
    "\n",
    "fuselage_frontal_area = 0.02    # m^2\n",
    "fuselage_drag_coefficient = 1.0\n",
    "\n",
    "overall_drag_coefficient = 1.2\n",
    "wheel_rolling_resistance = 0.012\n",
    "\n",
    "\n",
    "# heres some functions for the necessary \n",
    "\"\"\" \n",
    "at the moment of takeoff i thought that the lift it would have to generate \n",
    "is exactly equal to the weight of the plane itself. also, the cL_takeoff's AoA\n",
    "should be equal to zero\n",
    "\"\"\"\n",
    "def cL(AoA):\n",
    "   cL_takeoff = 2 * weight / (RHO * ROTATIONAL_V**2 * wing_area) # AoA should be 0\n",
    "   return (LIFT_SLOPE * AoA + cL_takeoff)\n",
    "\n",
    "\n",
    "\"\"\"\n",
    "ik the formula is T = v * (dm/dt), but at the instant of takeoff (dt) the mass isn't changing.\n",
    "ig this means i can multiply by the weight lmao??\n",
    "\"\"\"\n",
    "def thrust_takeoff(takeoff_velocity):\n",
    "   return takeoff_velocity * weight\n",
    "\n",
    "\n",
    "\"\"\"\n",
    "as i was thinking in terms of instantaneous moments at takeoff, i thought thrust should\n",
    "be equal to drag at takeoff. ill try this for now\n",
    "\"\"\"\n",
    "def cD(AoA):\n",
    "   cD_takeoff = 2 * thrust_takeoff() / (RHO * ROTATIONAL_V^2 * wing_area) # AoA should also be 0\n",
    "   k = 1 / (np.pi * oswald_e * aspect_ratio)\n",
    "   return (cD_takeoff + cL(AoA)**2 * k)"
   ]
  },
  {
   "cell_type": "code",
   "execution_count": 11,
   "metadata": {},
   "outputs": [
    {
     "data": {
      "text/plain": [
       "' thrusts = np.array([thrust_takeoff(ROTATIONAL_V) for ROTATIONAL_V in speed])\\ndrags = 0.5 * RHO * speed**2 * cD(ROTATIONAL_AOA) * wing_area\\n\\nmax_speed = speed[np.abs(thrusts - drags).argmin()]\\nprint(f\"Max Speed: {max_speed:.2f} m/s\")\\n '"
      ]
     },
     "execution_count": 11,
     "metadata": {},
     "output_type": "execute_result"
    }
   ],
   "source": [
    "\"\"\"\n",
    "okay so i think i got the variables and everything done... took a while cuz\n",
    "i had some package problems and accidently switched to julia for some reason.\n",
    "anyways heres some actual stuff:\n",
    "\"\"\"\n",
    "\n",
    "# max speed of an airplane is when drag = thrust, so:\n",
    "\"\"\" \n",
    "Assuming a range 0 to 50 m/s for speed of plane. imma create a list of numbers over \n",
    "\"\"\"\n",
    "list_speeds = np.linspace(0, 50, 100)\n",
    "print(list_speeds)\n",
    "\n",
    "\"\"\"\n",
    "iterating thru different speeds starting at takeoff velocity and finds the different\n",
    "thrusts for \n",
    "\"\"\"\n",
    "\n",
    "#thrust = np.array([thrust_takeoff(ROTATIONAL_V) for ROTATIONAL_V in speed])\n",
    "\n",
    "\n",
    "\n",
    "\"\"\"\n",
    "drags = 0.5 * RHO * speed**2 * cD(ROTATIONAL_AOA) * wing_area\n",
    "\n",
    "max_speed = speed[np.abs(thrusts - drags).argmin()]\n",
    "print(f\"Max Speed: {max_speed:.2f} m/s\")\n",
    " \"\"\""
   ]
  }
 ],
 "metadata": {
  "kernelspec": {
   "display_name": "Python 3",
   "language": "python",
   "name": "python3"
  },
  "language_info": {
   "codemirror_mode": {
    "name": "ipython",
    "version": 3
   },
   "file_extension": ".py",
   "mimetype": "text/x-python",
   "name": "python",
   "nbconvert_exporter": "python",
   "pygments_lexer": "ipython3",
   "version": "3.11.5"
  },
  "orig_nbformat": 4
 },
 "nbformat": 4,
 "nbformat_minor": 2
}
